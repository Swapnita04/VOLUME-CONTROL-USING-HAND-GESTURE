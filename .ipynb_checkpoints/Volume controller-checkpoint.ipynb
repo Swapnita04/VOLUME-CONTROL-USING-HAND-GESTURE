{
 "cells": [
  {
   "cell_type": "code",
   "execution_count": 1,
   "id": "fdf5c0b0",
   "metadata": {},
   "outputs": [],
   "source": [
    "import mediapipe as mp\n",
    "import cv2"
   ]
  },
  {
   "cell_type": "code",
   "execution_count": 2,
   "id": "1742373a",
   "metadata": {},
   "outputs": [],
   "source": [
    "mpHands = mp.solutions.hands\n",
    "mpDraw = mp.solutions.drawing_utils"
   ]
  },
  {
   "cell_type": "code",
   "execution_count": 3,
   "id": "43ef2840",
   "metadata": {},
   "outputs": [],
   "source": [
    "class HandDetector:\n",
    "    def __init__(self, max_num_hands=2, min_detection_confidence=0.5, min_tracking_confidence=0.5):\n",
    "        self.hand = mpHands.Hands(max_num_hands=max_num_hands, min_detection_confidence=min_detection_confidence,\n",
    "                                   min_tracking_confidence=min_tracking_confidence)"
   ]
  },
  {
   "cell_type": "code",
   "execution_count": 4,
   "id": "d6a7c40d",
   "metadata": {},
   "outputs": [
    {
     "ename": "NameError",
     "evalue": "name 'self' is not defined",
     "output_type": "error",
     "traceback": [
      "\u001b[1;31m---------------------------------------------------------------------------\u001b[0m",
      "\u001b[1;31mNameError\u001b[0m                                 Traceback (most recent call last)",
      "Input \u001b[1;32mIn [4]\u001b[0m, in \u001b[0;36m<cell line: 20>\u001b[1;34m()\u001b[0m\n\u001b[0;32m     17\u001b[0m             mpDraw\u001b[38;5;241m.\u001b[39mdraw_landmarks(originalImage, hand, mpHands\u001b[38;5;241m.\u001b[39mHAND_CONNECTIONS)\n\u001b[0;32m     19\u001b[0m     \u001b[38;5;28;01mreturn\u001b[39;00m landMarkList\n\u001b[1;32m---> 20\u001b[0m results \u001b[38;5;241m=\u001b[39m \u001b[38;5;28;43mself\u001b[39;49m\u001b[38;5;241m.\u001b[39mhands\u001b[38;5;241m.\u001b[39mprocess(image)\n",
      "\u001b[1;31mNameError\u001b[0m: name 'self' is not defined"
     ]
    }
   ],
   "source": [
    "def findHandLandMarks(self, image, handNumber=0, draw=False):\n",
    "    originalImage = image\n",
    "    image = cv2.cvtColor(image, cv2.COLOR_BGR2RGB)  # mediapipe needs RGB\n",
    "    results = self.hand.process(image)\n",
    "    landMarkList = []\n",
    "\n",
    "    if results.multi_hand_landmarks:  # returns None if hand is not found\n",
    "        hand = results.multi_hand_landmarks[handNumber] #results.multi_hand_landmarks returns landMarks for all the hands\n",
    "\n",
    "        for id, landMark in enumerate(hand.landmark):\n",
    "            # landMark holds x,y,z ratios of single landmark\n",
    "            imgH, imgW, imgC = originalImage.shape  # height, width, channel for image\n",
    "            xPos, yPos = int(landMark.x * imgW), int(landMark.y * imgH)\n",
    "            landMarkList.append([id, xPos, yPos])\n",
    "\n",
    "        if draw:\n",
    "            mpDraw.draw_landmarks(originalImage, hand, mpHands.HAND_CONNECTIONS)\n",
    "\n",
    "    return landMarkList\n",
    "results = self.hand.process(image)"
   ]
  },
  {
   "cell_type": "code",
   "execution_count": null,
   "id": "dce82eef",
   "metadata": {},
   "outputs": [],
   "source": []
  },
  {
   "cell_type": "code",
   "execution_count": null,
   "id": "c8dd74c2",
   "metadata": {},
   "outputs": [],
   "source": [
    "xPos, yPos = int(landMark.x * imgW), int(landMark.y * imgH)\n",
    "landMarkList.append([id, xPos, yPos])"
   ]
  },
  {
   "cell_type": "code",
   "execution_count": null,
   "id": "8a0970cd",
   "metadata": {},
   "outputs": [],
   "source": [
    "mpDraw.draw_landmarks(originalImage, hand, mpHands.HAND_CONNECTIONS)"
   ]
  },
  {
   "cell_type": "code",
   "execution_count": null,
   "id": "240b60db",
   "metadata": {},
   "outputs": [],
   "source": [
    "from handDetector import HandDetector\n",
    "import cv2\n",
    "import math\n",
    "import numpy as np"
   ]
  },
  {
   "cell_type": "code",
   "execution_count": null,
   "id": "71d603fa",
   "metadata": {},
   "outputs": [],
   "source": [
    "from ctypes import cast, POINTER\n",
    "from comtypes import CLSCTX_ALL\n",
    "from pycaw.pycaw import AudioUtilities, IAudioEndpointVolume"
   ]
  },
  {
   "cell_type": "code",
   "execution_count": null,
   "id": "38a9c454",
   "metadata": {},
   "outputs": [],
   "source": [
    "handDetector = HandDetector(min_detection_confidence=0.7)"
   ]
  },
  {
   "cell_type": "code",
   "execution_count": null,
   "id": "22783d78",
   "metadata": {},
   "outputs": [],
   "source": [
    "webcamFeed = cv2.VideoCapture(0)"
   ]
  },
  {
   "cell_type": "code",
   "execution_count": null,
   "id": "64aaee97",
   "metadata": {},
   "outputs": [],
   "source": [
    "#Volume related initializations\n",
    "devices = AudioUtilities.GetSpeakers()\n",
    "interface = devices.Activate(\n",
    "IAudioEndpointVolume._iid_, CLSCTX_ALL, None)\n",
    "volume = cast(interface, POINTER(IAudioEndpointVolume))\n",
    "print(volume.GetVolumeRange()) #(-65.25, 0.0)"
   ]
  },
  {
   "cell_type": "code",
   "execution_count": null,
   "id": "29148016",
   "metadata": {},
   "outputs": [],
   "source": []
  },
  {
   "cell_type": "code",
   "execution_count": null,
   "id": "caa3224f",
   "metadata": {},
   "outputs": [],
   "source": []
  },
  {
   "cell_type": "code",
   "execution_count": null,
   "id": "127ea613",
   "metadata": {},
   "outputs": [],
   "source": []
  }
 ],
 "metadata": {
  "kernelspec": {
   "display_name": "venv1kernel",
   "language": "python",
   "name": "venv1kernel"
  },
  "language_info": {
   "codemirror_mode": {
    "name": "ipython",
    "version": 3
   },
   "file_extension": ".py",
   "mimetype": "text/x-python",
   "name": "python",
   "nbconvert_exporter": "python",
   "pygments_lexer": "ipython3",
   "version": "3.10.1"
  }
 },
 "nbformat": 4,
 "nbformat_minor": 5
}
